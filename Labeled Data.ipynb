{
 "cells": [
  {
   "cell_type": "code",
   "execution_count": 1,
   "id": "70e31d6d",
   "metadata": {},
   "outputs": [],
   "source": [
    "import numpy as np\n",
    "import pandas as pd\n",
    "import random\n",
    "import cv2\n",
    "import os"
   ]
  },
  {
   "cell_type": "code",
   "execution_count": 4,
   "id": "81e58055",
   "metadata": {},
   "outputs": [],
   "source": [
    "root_dir = r'C:\\Users\\Ramzan\\Documents\\Self Supervised Learning'\n",
    "images_dir = os.path.join(root_dir,'dataset')\n",
    "train_labels_path = os.path.join(root_dir,'dataset','annotations','flower_recognition_train.csv')\n",
    "test_labels_path = os.path.join(root_dir,'dataset','annotations','flower_recognition_test.csv')"
   ]
  },
  {
   "cell_type": "code",
   "execution_count": 5,
   "id": "fc51a36d",
   "metadata": {},
   "outputs": [
    {
     "data": {
      "text/plain": [
       "'C:\\\\Users\\\\Ramzan\\\\Documents\\\\Self Supervised Learning\\\\dataset\\\\annotations\\\\flower_recognition_train.csv'"
      ]
     },
     "execution_count": 5,
     "metadata": {},
     "output_type": "execute_result"
    }
   ],
   "source": [
    "train_labels_path"
   ]
  },
  {
   "cell_type": "code",
   "execution_count": 6,
   "id": "0c9bd28c",
   "metadata": {},
   "outputs": [],
   "source": [
    "train_df = pd.read_csv(train_labels_path,usecols=['FileName','Label','ClassName'])\n",
    "test_df = pd.read_csv(test_labels_path,usecols=['FileName','Label','ClassName'])"
   ]
  },
  {
   "cell_type": "code",
   "execution_count": 7,
   "id": "3d462746",
   "metadata": {},
   "outputs": [
    {
     "data": {
      "text/html": [
       "<div>\n",
       "<style scoped>\n",
       "    .dataframe tbody tr th:only-of-type {\n",
       "        vertical-align: middle;\n",
       "    }\n",
       "\n",
       "    .dataframe tbody tr th {\n",
       "        vertical-align: top;\n",
       "    }\n",
       "\n",
       "    .dataframe thead th {\n",
       "        text-align: right;\n",
       "    }\n",
       "</style>\n",
       "<table border=\"1\" class=\"dataframe\">\n",
       "  <thead>\n",
       "    <tr style=\"text-align: right;\">\n",
       "      <th></th>\n",
       "      <th>FileName</th>\n",
       "      <th>Label</th>\n",
       "      <th>ClassName</th>\n",
       "    </tr>\n",
       "  </thead>\n",
       "  <tbody>\n",
       "    <tr>\n",
       "      <th>0</th>\n",
       "      <td>C:\\Users\\Ramzan\\Documents\\Self Supervised Lear...</td>\n",
       "      <td>0</td>\n",
       "      <td>daisy</td>\n",
       "    </tr>\n",
       "    <tr>\n",
       "      <th>1</th>\n",
       "      <td>C:\\Users\\Ramzan\\Documents\\Self Supervised Lear...</td>\n",
       "      <td>0</td>\n",
       "      <td>daisy</td>\n",
       "    </tr>\n",
       "    <tr>\n",
       "      <th>2</th>\n",
       "      <td>C:\\Users\\Ramzan\\Documents\\Self Supervised Lear...</td>\n",
       "      <td>0</td>\n",
       "      <td>daisy</td>\n",
       "    </tr>\n",
       "    <tr>\n",
       "      <th>3</th>\n",
       "      <td>C:\\Users\\Ramzan\\Documents\\Self Supervised Lear...</td>\n",
       "      <td>0</td>\n",
       "      <td>daisy</td>\n",
       "    </tr>\n",
       "    <tr>\n",
       "      <th>4</th>\n",
       "      <td>C:\\Users\\Ramzan\\Documents\\Self Supervised Lear...</td>\n",
       "      <td>0</td>\n",
       "      <td>daisy</td>\n",
       "    </tr>\n",
       "  </tbody>\n",
       "</table>\n",
       "</div>"
      ],
      "text/plain": [
       "                                            FileName  Label ClassName\n",
       "0  C:\\Users\\Ramzan\\Documents\\Self Supervised Lear...      0     daisy\n",
       "1  C:\\Users\\Ramzan\\Documents\\Self Supervised Lear...      0     daisy\n",
       "2  C:\\Users\\Ramzan\\Documents\\Self Supervised Lear...      0     daisy\n",
       "3  C:\\Users\\Ramzan\\Documents\\Self Supervised Lear...      0     daisy\n",
       "4  C:\\Users\\Ramzan\\Documents\\Self Supervised Lear...      0     daisy"
      ]
     },
     "execution_count": 7,
     "metadata": {},
     "output_type": "execute_result"
    }
   ],
   "source": [
    "train_df.head()"
   ]
  },
  {
   "cell_type": "code",
   "execution_count": 8,
   "id": "02661ab7",
   "metadata": {},
   "outputs": [
    {
     "data": {
      "text/html": [
       "<div>\n",
       "<style scoped>\n",
       "    .dataframe tbody tr th:only-of-type {\n",
       "        vertical-align: middle;\n",
       "    }\n",
       "\n",
       "    .dataframe tbody tr th {\n",
       "        vertical-align: top;\n",
       "    }\n",
       "\n",
       "    .dataframe thead th {\n",
       "        text-align: right;\n",
       "    }\n",
       "</style>\n",
       "<table border=\"1\" class=\"dataframe\">\n",
       "  <thead>\n",
       "    <tr style=\"text-align: right;\">\n",
       "      <th></th>\n",
       "      <th>FileName</th>\n",
       "      <th>Label</th>\n",
       "      <th>ClassName</th>\n",
       "    </tr>\n",
       "  </thead>\n",
       "  <tbody>\n",
       "  </tbody>\n",
       "</table>\n",
       "</div>"
      ],
      "text/plain": [
       "Empty DataFrame\n",
       "Columns: [FileName, Label, ClassName]\n",
       "Index: []"
      ]
     },
     "execution_count": 8,
     "metadata": {},
     "output_type": "execute_result"
    }
   ],
   "source": [
    "per_labeled_data = 10\n",
    "small_labeled_data = pd.DataFrame(columns = ['FileName', 'Label', 'ClassName'])\n",
    "small_labeled_data"
   ]
  },
  {
   "cell_type": "code",
   "execution_count": 9,
   "id": "5df5e669",
   "metadata": {},
   "outputs": [
    {
     "name": "stdout",
     "output_type": "stream",
     "text": [
      "70\n",
      "99\n",
      "72\n",
      "67\n",
      "92\n"
     ]
    }
   ],
   "source": [
    "for label in range(5):\n",
    "    data = train_df[train_df['Label'] == label]\n",
    "    num_labeled_samp = int((len(data)/100)*per_labeled_data)\n",
    "    print(num_labeled_samp)\n",
    "    idxs = random.sample(range(1,len(data)), num_labeled_samp)\n",
    "    data_selected = data.iloc[idxs]\n",
    "    small_labeled_data = pd.concat([small_labeled_data, data_selected])"
   ]
  },
  {
   "cell_type": "code",
   "execution_count": 10,
   "id": "3369a437",
   "metadata": {},
   "outputs": [
    {
     "data": {
      "text/html": [
       "<div>\n",
       "<style scoped>\n",
       "    .dataframe tbody tr th:only-of-type {\n",
       "        vertical-align: middle;\n",
       "    }\n",
       "\n",
       "    .dataframe tbody tr th {\n",
       "        vertical-align: top;\n",
       "    }\n",
       "\n",
       "    .dataframe thead th {\n",
       "        text-align: right;\n",
       "    }\n",
       "</style>\n",
       "<table border=\"1\" class=\"dataframe\">\n",
       "  <thead>\n",
       "    <tr style=\"text-align: right;\">\n",
       "      <th></th>\n",
       "      <th>FileName</th>\n",
       "      <th>Label</th>\n",
       "      <th>ClassName</th>\n",
       "    </tr>\n",
       "  </thead>\n",
       "  <tbody>\n",
       "    <tr>\n",
       "      <th>566</th>\n",
       "      <td>C:\\Users\\Ramzan\\Documents\\Self Supervised Lear...</td>\n",
       "      <td>0</td>\n",
       "      <td>daisy</td>\n",
       "    </tr>\n",
       "    <tr>\n",
       "      <th>334</th>\n",
       "      <td>C:\\Users\\Ramzan\\Documents\\Self Supervised Lear...</td>\n",
       "      <td>0</td>\n",
       "      <td>daisy</td>\n",
       "    </tr>\n",
       "    <tr>\n",
       "      <th>149</th>\n",
       "      <td>C:\\Users\\Ramzan\\Documents\\Self Supervised Lear...</td>\n",
       "      <td>0</td>\n",
       "      <td>daisy</td>\n",
       "    </tr>\n",
       "    <tr>\n",
       "      <th>281</th>\n",
       "      <td>C:\\Users\\Ramzan\\Documents\\Self Supervised Lear...</td>\n",
       "      <td>0</td>\n",
       "      <td>daisy</td>\n",
       "    </tr>\n",
       "    <tr>\n",
       "      <th>592</th>\n",
       "      <td>C:\\Users\\Ramzan\\Documents\\Self Supervised Lear...</td>\n",
       "      <td>0</td>\n",
       "      <td>daisy</td>\n",
       "    </tr>\n",
       "    <tr>\n",
       "      <th>...</th>\n",
       "      <td>...</td>\n",
       "      <td>...</td>\n",
       "      <td>...</td>\n",
       "    </tr>\n",
       "    <tr>\n",
       "      <th>3504</th>\n",
       "      <td>C:\\Users\\Ramzan\\Documents\\Self Supervised Lear...</td>\n",
       "      <td>4</td>\n",
       "      <td>tulip</td>\n",
       "    </tr>\n",
       "    <tr>\n",
       "      <th>3437</th>\n",
       "      <td>C:\\Users\\Ramzan\\Documents\\Self Supervised Lear...</td>\n",
       "      <td>4</td>\n",
       "      <td>tulip</td>\n",
       "    </tr>\n",
       "    <tr>\n",
       "      <th>3899</th>\n",
       "      <td>C:\\Users\\Ramzan\\Documents\\Self Supervised Lear...</td>\n",
       "      <td>4</td>\n",
       "      <td>tulip</td>\n",
       "    </tr>\n",
       "    <tr>\n",
       "      <th>3451</th>\n",
       "      <td>C:\\Users\\Ramzan\\Documents\\Self Supervised Lear...</td>\n",
       "      <td>4</td>\n",
       "      <td>tulip</td>\n",
       "    </tr>\n",
       "    <tr>\n",
       "      <th>3731</th>\n",
       "      <td>C:\\Users\\Ramzan\\Documents\\Self Supervised Lear...</td>\n",
       "      <td>4</td>\n",
       "      <td>tulip</td>\n",
       "    </tr>\n",
       "  </tbody>\n",
       "</table>\n",
       "<p>400 rows × 3 columns</p>\n",
       "</div>"
      ],
      "text/plain": [
       "                                               FileName Label ClassName\n",
       "566   C:\\Users\\Ramzan\\Documents\\Self Supervised Lear...     0     daisy\n",
       "334   C:\\Users\\Ramzan\\Documents\\Self Supervised Lear...     0     daisy\n",
       "149   C:\\Users\\Ramzan\\Documents\\Self Supervised Lear...     0     daisy\n",
       "281   C:\\Users\\Ramzan\\Documents\\Self Supervised Lear...     0     daisy\n",
       "592   C:\\Users\\Ramzan\\Documents\\Self Supervised Lear...     0     daisy\n",
       "...                                                 ...   ...       ...\n",
       "3504  C:\\Users\\Ramzan\\Documents\\Self Supervised Lear...     4     tulip\n",
       "3437  C:\\Users\\Ramzan\\Documents\\Self Supervised Lear...     4     tulip\n",
       "3899  C:\\Users\\Ramzan\\Documents\\Self Supervised Lear...     4     tulip\n",
       "3451  C:\\Users\\Ramzan\\Documents\\Self Supervised Lear...     4     tulip\n",
       "3731  C:\\Users\\Ramzan\\Documents\\Self Supervised Lear...     4     tulip\n",
       "\n",
       "[400 rows x 3 columns]"
      ]
     },
     "execution_count": 10,
     "metadata": {},
     "output_type": "execute_result"
    }
   ],
   "source": [
    "small_labeled_data"
   ]
  },
  {
   "cell_type": "code",
   "execution_count": 12,
   "id": "dd2aa167",
   "metadata": {},
   "outputs": [],
   "source": [
    "dest_path = os.path.join('dataset', 'annotations')\n",
    "if not os.path.exists(dest_path):\n",
    "    os.mkdir(dest_path)\n",
    "\n",
    "small_labeled_data.to_csv(os.path.join(dest_path,'small_labeled_data.csv'), index=False)"
   ]
  }
 ],
 "metadata": {
  "kernelspec": {
   "display_name": "Python 3 (ipykernel)",
   "language": "python",
   "name": "python3"
  },
  "language_info": {
   "codemirror_mode": {
    "name": "ipython",
    "version": 3
   },
   "file_extension": ".py",
   "mimetype": "text/x-python",
   "name": "python",
   "nbconvert_exporter": "python",
   "pygments_lexer": "ipython3",
   "version": "3.11.3"
  }
 },
 "nbformat": 4,
 "nbformat_minor": 5
}
